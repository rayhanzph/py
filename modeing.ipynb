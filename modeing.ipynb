{
 "cells": [
  {
   "cell_type": "code",
   "execution_count": 44,
   "id": "e0c58543",
   "metadata": {},
   "outputs": [],
   "source": [
    "import pandas as pd\n",
    "from sklearn.preprocessing import StandardScaler\n",
    "from sklearn.ensemble import RandomForestClassifier\n",
    "from sklearn.model_selection import train_test_split\n",
    "import pickle"
   ]
  },
  {
   "cell_type": "code",
   "execution_count": 45,
   "id": "51f6cc07",
   "metadata": {},
   "outputs": [],
   "source": [
    "# memuat data --> pd.read(\"nama_file.csv\")\n",
    "\n",
    "df = pd.read_csv(\"tahu.csv\")"
   ]
  },
  {
   "cell_type": "code",
   "execution_count": 46,
   "id": "e66ebe22",
   "metadata": {},
   "outputs": [
    {
     "name": "stdout",
     "output_type": "stream",
     "text": [
      "   H2_MQ2(ppm)  LPG_MQ2(ppm)  CO_MQ2(ppm)  Alcohol_MQ2(ppm)  Propane_MQ2(ppm)  \\\n",
      "0          1.6           0.8          3.7               1.3               1.1   \n",
      "1          1.6           0.8          3.7               1.3               1.1   \n",
      "2          1.6           0.8          3.7               1.3               1.1   \n",
      "3          1.6           0.8          3.7               1.3               1.1   \n",
      "4          1.6           0.8          3.7               1.3               1.1   \n",
      "\n",
      "   CH4_MQ4(ppm)  Smoke_MQ4(ppm)  Temperature(C)  label  \n",
      "0           0.7             0.0               1      0  \n",
      "1           0.7             0.0               1      0  \n",
      "2           0.7             0.0               1      0  \n",
      "3           0.7             0.0               1      0  \n",
      "4           0.7             0.0               1      0  \n"
     ]
    }
   ],
   "source": [
    "print(df.head())"
   ]
  },
  {
   "cell_type": "code",
   "execution_count": 47,
   "id": "422cf8a3",
   "metadata": {},
   "outputs": [],
   "source": [
    "X = df[['H2_MQ2(ppm)','LPG_MQ2(ppm)','CO_MQ2(ppm)','Alcohol_MQ2(ppm)','Propane_MQ2(ppm)','CH4_MQ4(ppm)','Smoke_MQ4(ppm)','Temperature(C)','label']]\n",
    "Y = df['label']"
   ]
  },
  {
   "cell_type": "code",
   "execution_count": 48,
   "id": "beb5d71b",
   "metadata": {},
   "outputs": [],
   "source": [
    "X_train, X_test, y_train, y_test = train_test_split(X, Y, test_size=0.3, random_state=50)"
   ]
  },
  {
   "cell_type": "code",
   "execution_count": 49,
   "id": "126f1196",
   "metadata": {},
   "outputs": [],
   "source": [
    "sc = StandardScaler()\n",
    "X_train = sc.fit_transform(X_train)\n",
    "X_test = sc.fit_transform(X_test)"
   ]
  },
  {
   "cell_type": "code",
   "execution_count": 50,
   "id": "7d824d6e",
   "metadata": {},
   "outputs": [],
   "source": [
    "classifier = RandomForestClassifier()"
   ]
  },
  {
   "cell_type": "code",
   "execution_count": 51,
   "id": "0ae8648d",
   "metadata": {},
   "outputs": [
    {
     "data": {
      "text/plain": [
       "RandomForestClassifier()"
      ]
     },
     "execution_count": 51,
     "metadata": {},
     "output_type": "execute_result"
    }
   ],
   "source": [
    "classifier.fit(X_train, y_train)"
   ]
  },
  {
   "cell_type": "code",
   "execution_count": 52,
   "id": "a032a1e0",
   "metadata": {},
   "outputs": [],
   "source": [
    "pickle.dump(classifier, open(\"model.pkl\", \"wb\"))"
   ]
  },
  {
   "cell_type": "code",
   "execution_count": null,
   "id": "a9e02505",
   "metadata": {},
   "outputs": [],
   "source": []
  }
 ],
 "metadata": {
  "kernelspec": {
   "display_name": "Python 3 (ipykernel)",
   "language": "python",
   "name": "python3"
  },
  "language_info": {
   "codemirror_mode": {
    "name": "ipython",
    "version": 3
   },
   "file_extension": ".py",
   "mimetype": "text/x-python",
   "name": "python",
   "nbconvert_exporter": "python",
   "pygments_lexer": "ipython3",
   "version": "3.9.12"
  }
 },
 "nbformat": 4,
 "nbformat_minor": 5
}
